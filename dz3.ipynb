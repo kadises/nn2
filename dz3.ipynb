{
 "cells": [
  {
   "cell_type": "code",
   "execution_count": 161,
   "id": "813ed001",
   "metadata": {},
   "outputs": [],
   "source": [
    "import numpy as np\n",
    "import pandas as pd\n",
    "import seaborn as sns\n",
    "import matplotlib.pyplot as plt\n",
    "from keras.layers import Dense,Input\n",
    "from keras.models import Model\n",
    "import tensorflow as tf\n",
    "from sklearn.model_selection import train_test_split\n",
    "from sklearn.preprocessing import StandardScaler"
   ]
  },
  {
   "cell_type": "code",
   "execution_count": 4,
   "id": "3b652ff3",
   "metadata": {},
   "outputs": [],
   "source": [
    "data_url = \"http://lib.stat.cmu.edu/datasets/boston\"\n",
    "raw_df = pd.read_csv(data_url, sep=\"\\s+\", skiprows=22, header=None)\n",
    "data = np.hstack([raw_df.values[::2, :], raw_df.values[1::2, :2]])\n",
    "target = raw_df.values[1::2, 2]"
   ]
  },
  {
   "cell_type": "code",
   "execution_count": 5,
   "id": "69705ae6",
   "metadata": {},
   "outputs": [],
   "source": [
    "X_train,X_test,y_train,y_test = train_test_split(data,target,shuffle = True,test_size = 0.3,random_state = 1)"
   ]
  },
  {
   "cell_type": "code",
   "execution_count": 6,
   "id": "899ab8ee",
   "metadata": {},
   "outputs": [],
   "source": [
    "sc = StandardScaler()\n",
    "X_train = sc.fit_transform(X_train)\n",
    "X_test = sc.transform(X_test)"
   ]
  },
  {
   "cell_type": "code",
   "execution_count": 420,
   "id": "1f622068",
   "metadata": {},
   "outputs": [],
   "source": [
    "def models(layers,nn_in_l,act = 'relu'):\n",
    "    inputs = Input(shape = (13,))\n",
    "    x1 = Dense(nn_in_l[0],activation = act)(inputs)\n",
    "    for i in range(1,layers):\n",
    "        x1 = Dense(nn_in_l[i],activation = act)(x1)\n",
    "    return Model(inputs =inputs,outputs = x1)\n",
    "    "
   ]
  },
  {
   "cell_type": "code",
   "execution_count": 145,
   "id": "f94935c2",
   "metadata": {
    "scrolled": true
   },
   "outputs": [
    {
     "name": "stdout",
     "output_type": "stream",
     "text": [
      "Wall time: 2.47 s\n"
     ]
    },
    {
     "data": {
      "text/plain": [
       "<keras.src.callbacks.History at 0xe054cda8e0>"
      ]
     },
     "execution_count": 145,
     "metadata": {},
     "output_type": "execute_result"
    }
   ],
   "source": [
    "%%time\n",
    "RMSE = []\n",
    "model4 = models(4,[100,2000,100,1])\n",
    "model4.compile(optimizer = 'Adam',loss = 'MSE')\n",
    "model4.fit(X_train,y_train,epochs = 20,verbose = 0)"
   ]
  },
  {
   "cell_type": "code",
   "execution_count": 146,
   "id": "c9908be2",
   "metadata": {},
   "outputs": [
    {
     "data": {
      "text/plain": [
       "3.215551472259767"
      ]
     },
     "execution_count": 146,
     "metadata": {},
     "output_type": "execute_result"
    }
   ],
   "source": [
    "np.sqrt(model4.evaluate(X_test,y_test,verbose = 0))"
   ]
  },
  {
   "cell_type": "code",
   "execution_count": 49,
   "id": "cbff2637",
   "metadata": {},
   "outputs": [
    {
     "data": {
      "text/plain": [
       "<keras.src.callbacks.History at 0xdf8ffd9370>"
      ]
     },
     "execution_count": 49,
     "metadata": {},
     "output_type": "execute_result"
    }
   ],
   "source": [
    "model5 = models(5,[64,1000,1000,32,1])\n",
    "model5.compile(optimizer = 'Adam',loss = 'MSE')\n",
    "model5.fit(X_train,y_train,epochs = 20,verbose = 0)"
   ]
  },
  {
   "cell_type": "code",
   "execution_count": 405,
   "id": "a1479862",
   "metadata": {},
   "outputs": [
    {
     "data": {
      "text/plain": [
       "2.855858647019381"
      ]
     },
     "execution_count": 405,
     "metadata": {},
     "output_type": "execute_result"
    }
   ],
   "source": [
    "RMSE.append(np.sqrt(model5.evaluate(X_test,y_test,verbose = 0)))\n",
    "np.sqrt(model5.evaluate(X_test,y_test,verbose = 0))"
   ]
  },
  {
   "cell_type": "code",
   "execution_count": 51,
   "id": "ef8d72c9",
   "metadata": {},
   "outputs": [
    {
     "data": {
      "text/plain": [
       "<keras.src.callbacks.History at 0xdf92437ca0>"
      ]
     },
     "execution_count": 51,
     "metadata": {},
     "output_type": "execute_result"
    }
   ],
   "source": [
    "model6 = models(6,[128,64,1000,1000,16,1])\n",
    "model6.compile(optimizer = 'Adam',loss = 'MSE')\n",
    "model6.fit(X_train,y_train,epochs = 20,verbose = 0)"
   ]
  },
  {
   "cell_type": "code",
   "execution_count": 406,
   "id": "f657e1ef",
   "metadata": {},
   "outputs": [
    {
     "data": {
      "text/plain": [
       "3.0514709240151485"
      ]
     },
     "execution_count": 406,
     "metadata": {},
     "output_type": "execute_result"
    }
   ],
   "source": [
    "RMSE.append(np.sqrt(model6.evaluate(X_test,y_test,verbose = 0)))\n",
    "np.sqrt(model6.evaluate(X_test,y_test,verbose = 0))"
   ]
  },
  {
   "cell_type": "code",
   "execution_count": 56,
   "id": "ee906b7c",
   "metadata": {},
   "outputs": [
    {
     "data": {
      "text/plain": [
       "<keras.src.callbacks.History at 0xdf9a2f0a30>"
      ]
     },
     "execution_count": 56,
     "metadata": {},
     "output_type": "execute_result"
    }
   ],
   "source": [
    "model7 = models(7,[64,128,64,1000,16,8,1])\n",
    "model7.compile(optimizer = 'Adam',loss = 'MSE')\n",
    "model7.fit(X_train,y_train,epochs = 20,verbose = 0)"
   ]
  },
  {
   "cell_type": "code",
   "execution_count": 57,
   "id": "ad1f08d3",
   "metadata": {},
   "outputs": [
    {
     "data": {
      "text/plain": [
       "3.1167707810036913"
      ]
     },
     "execution_count": 57,
     "metadata": {},
     "output_type": "execute_result"
    }
   ],
   "source": [
    "np.sqrt(model7.evaluate(X_test,y_test,verbose = 0))"
   ]
  },
  {
   "cell_type": "code",
   "execution_count": 60,
   "id": "b5caffc4",
   "metadata": {},
   "outputs": [
    {
     "data": {
      "text/plain": [
       "<keras.src.callbacks.History at 0xdf9e6fd7c0>"
      ]
     },
     "execution_count": 60,
     "metadata": {},
     "output_type": "execute_result"
    }
   ],
   "source": [
    "model8 = models(8,[64,128,64,1000,1000,8,4,1])\n",
    "model8.compile(optimizer = 'Adam',loss = 'MSE')\n",
    "model8.fit(X_train,y_train,epochs = 20,verbose = 0)"
   ]
  },
  {
   "cell_type": "code",
   "execution_count": 407,
   "id": "6daa0e5a",
   "metadata": {},
   "outputs": [
    {
     "data": {
      "text/plain": [
       "2.7070306334832"
      ]
     },
     "execution_count": 407,
     "metadata": {},
     "output_type": "execute_result"
    }
   ],
   "source": [
    "RMSE.append(np.sqrt(model8.evaluate(X_test,y_test,verbose = 0)))\n",
    "np.sqrt(model8.evaluate(X_test,y_test,verbose = 0))"
   ]
  },
  {
   "cell_type": "code",
   "execution_count": 78,
   "id": "8d2825f1",
   "metadata": {},
   "outputs": [
    {
     "data": {
      "text/plain": [
       "<keras.src.callbacks.History at 0xdfbbada070>"
      ]
     },
     "execution_count": 78,
     "metadata": {},
     "output_type": "execute_result"
    }
   ],
   "source": [
    "model9 = models(9,[64,128,256,512,1024,512,256,64,1])\n",
    "model9.compile(optimizer = 'Adam',loss = 'MSE')\n",
    "model9.fit(X_train,y_train,epochs = 20,verbose = 0)"
   ]
  },
  {
   "cell_type": "code",
   "execution_count": 408,
   "id": "4cd1c314",
   "metadata": {},
   "outputs": [
    {
     "data": {
      "text/plain": [
       "2.7786444128021546"
      ]
     },
     "execution_count": 408,
     "metadata": {},
     "output_type": "execute_result"
    }
   ],
   "source": [
    "RMSE.append(np.sqrt(model9.evaluate(X_test,y_test,verbose = 0)))\n",
    "np.sqrt(model9.evaluate(X_test,y_test,verbose = 0))"
   ]
  },
  {
   "cell_type": "code",
   "execution_count": 109,
   "id": "a06d42dc",
   "metadata": {},
   "outputs": [
    {
     "name": "stdout",
     "output_type": "stream",
     "text": [
      "Wall time: 10.5 s\n"
     ]
    },
    {
     "data": {
      "text/plain": [
       "<keras.src.callbacks.History at 0xe0013d27c0>"
      ]
     },
     "execution_count": 109,
     "metadata": {},
     "output_type": "execute_result"
    }
   ],
   "source": [
    "%%time\n",
    "model10 = models(10,[64,128,256,512,1024,1024,64,32,64,1])\n",
    "model10.compile(optimizer = 'Adam',loss = 'MSE')\n",
    "model10.fit(X_train,y_train,epochs = 20,verbose = 0)"
   ]
  },
  {
   "cell_type": "code",
   "execution_count": 110,
   "id": "f7137a0a",
   "metadata": {},
   "outputs": [
    {
     "data": {
      "text/plain": [
       "3.1160074165755463"
      ]
     },
     "execution_count": 110,
     "metadata": {},
     "output_type": "execute_result"
    }
   ],
   "source": [
    "np.sqrt(model10.evaluate(X_test,y_test,verbose = 0))"
   ]
  },
  {
   "cell_type": "code",
   "execution_count": 141,
   "id": "53eaa293",
   "metadata": {},
   "outputs": [
    {
     "name": "stdout",
     "output_type": "stream",
     "text": [
      "Wall time: 26.8 s\n"
     ]
    },
    {
     "data": {
      "text/plain": [
       "<keras.src.callbacks.History at 0xe0256f56a0>"
      ]
     },
     "execution_count": 141,
     "metadata": {},
     "output_type": "execute_result"
    }
   ],
   "source": [
    "%%time\n",
    "model11 = models(11,[64,128,256,512,1024,2048,1024,64,32,64,1])\n",
    "model11.compile(optimizer = 'Adam',loss = 'MSE')\n",
    "model11.fit(X_train,y_train,epochs = 20,verbose = 0)"
   ]
  },
  {
   "cell_type": "code",
   "execution_count": 142,
   "id": "ef2710e3",
   "metadata": {},
   "outputs": [
    {
     "data": {
      "text/plain": [
       "3.488686259339047"
      ]
     },
     "execution_count": 142,
     "metadata": {},
     "output_type": "execute_result"
    }
   ],
   "source": [
    "np.sqrt(model11.evaluate(X_test,y_test,verbose = 0))"
   ]
  },
  {
   "cell_type": "code",
   "execution_count": 139,
   "id": "bdc7948e",
   "metadata": {},
   "outputs": [
    {
     "name": "stdout",
     "output_type": "stream",
     "text": [
      "Wall time: 34.9 s\n"
     ]
    },
    {
     "data": {
      "text/plain": [
       "<keras.src.callbacks.History at 0xe00e0e2340>"
      ]
     },
     "execution_count": 139,
     "metadata": {},
     "output_type": "execute_result"
    }
   ],
   "source": [
    "%%time\n",
    "model12 = models(12,[64,128,256,512,1024,1024,2048,1024,64,64,64,1])\n",
    "model12.compile(optimizer = 'Adam',loss = 'MSE')\n",
    "model12.fit(X_train,y_train,epochs = 20,verbose = 0)"
   ]
  },
  {
   "cell_type": "code",
   "execution_count": 140,
   "id": "9b58d781",
   "metadata": {},
   "outputs": [
    {
     "data": {
      "text/plain": [
       "3.6170088721839653"
      ]
     },
     "execution_count": 140,
     "metadata": {},
     "output_type": "execute_result"
    }
   ],
   "source": [
    "np.sqrt(model12.evaluate(X_test,y_test,verbose = 0))"
   ]
  },
  {
   "cell_type": "markdown",
   "id": "7a5c2342",
   "metadata": {},
   "source": [
    "**Наилучшие метрики получались когда модель постепенно \"толстела\" к центральным слоям**"
   ]
  },
  {
   "cell_type": "code",
   "execution_count": 460,
   "id": "3eb1c05e",
   "metadata": {},
   "outputs": [],
   "source": [
    "def expr(optimizers = [legacy.RMSprop(),legacy.Adagrad()],act = 'relu',RMSE_DATA = pd.DataFrame()):\n",
    "    for opt in optimizers:\n",
    "        RMSE = []\n",
    "        for neu in nn:\n",
    "            model = models(len(neu), neu)\n",
    "            model.compile(optimizer=opt,loss = 'MSE')\n",
    "            model.fit(X_train, y_train, epochs=20,verbose = 0)\n",
    "            rmse = np.sqrt(model.evaluate(X_test, y_test, verbose=0))\n",
    "            RMSE.append(rmse)\n",
    "        temp = pd.DataFrame(RMSE).T\n",
    "        temp['optimizer'] = opt.get_config()['name']\n",
    "        temp['activation_func'] = act.name\n",
    "        temp.columns = RMSE_DATA.columns\n",
    "        RMSE_DATA = pd.concat([RMSE_DATA,temp],axis = 0)\n",
    "    return RMSE_DATA"
   ]
  },
  {
   "cell_type": "code",
   "execution_count": 454,
   "id": "3168d79e",
   "metadata": {},
   "outputs": [],
   "source": [
    "nn_5 = [64,1000,1000,32,1]\n",
    "nn_6 = [128,64,1000,1000,16,1]\n",
    "nn_8 =  [64,128,64,1000,1000,8,4,1]\n",
    "nn_9 = [64,128,256,512,1024,512,256,64,1]\n",
    "nn = [nn_5,nn_6,nn_8,nn_9]"
   ]
  },
  {
   "cell_type": "markdown",
   "id": "6fa04528",
   "metadata": {},
   "source": [
    "**Наилучшие конфигурации числа нейронов в слоях**"
   ]
  },
  {
   "cell_type": "markdown",
   "id": "62a5807c",
   "metadata": {},
   "source": [
    "**Замечание:Чем больше слоев и нейронов, тем чувствительней модель к начальым весам**"
   ]
  },
  {
   "cell_type": "code",
   "execution_count": 455,
   "id": "a9da3789",
   "metadata": {},
   "outputs": [],
   "source": [
    "from tensorflow.keras.optimizers import *"
   ]
  },
  {
   "cell_type": "code",
   "execution_count": 465,
   "id": "c24abbda",
   "metadata": {},
   "outputs": [
    {
     "data": {
      "text/html": [
       "<div>\n",
       "<style scoped>\n",
       "    .dataframe tbody tr th:only-of-type {\n",
       "        vertical-align: middle;\n",
       "    }\n",
       "\n",
       "    .dataframe tbody tr th {\n",
       "        vertical-align: top;\n",
       "    }\n",
       "\n",
       "    .dataframe thead th {\n",
       "        text-align: right;\n",
       "    }\n",
       "</style>\n",
       "<table border=\"1\" class=\"dataframe\">\n",
       "  <thead>\n",
       "    <tr style=\"text-align: right;\">\n",
       "      <th></th>\n",
       "      <th>5_neurons</th>\n",
       "      <th>6_neurons</th>\n",
       "      <th>8_neurons</th>\n",
       "      <th>9_neurons</th>\n",
       "      <th>optimizer</th>\n",
       "      <th>activation_func</th>\n",
       "    </tr>\n",
       "  </thead>\n",
       "  <tbody>\n",
       "    <tr>\n",
       "      <th>0</th>\n",
       "      <td>2.855859</td>\n",
       "      <td>3.051471</td>\n",
       "      <td>2.707031</td>\n",
       "      <td>2.778644</td>\n",
       "      <td>Adam</td>\n",
       "      <td>re_lu</td>\n",
       "    </tr>\n",
       "  </tbody>\n",
       "</table>\n",
       "</div>"
      ],
      "text/plain": [
       "   5_neurons  6_neurons  8_neurons  9_neurons optimizer activation_func\n",
       "0   2.855859   3.051471   2.707031   2.778644      Adam           re_lu"
      ]
     },
     "execution_count": 465,
     "metadata": {},
     "output_type": "execute_result"
    }
   ],
   "source": [
    "RMSE_DATA = pd.DataFrame(np.array(RMSE))\n",
    "RMSE_DATA = RMSE_DATA.T\n",
    "RMSE_DATA.columns = ['5_neurons','6_neurons','8_neurons','9_neurons']\n",
    "RMSE_DATA['optimizer'] = 'Adam'\n",
    "RMSE_DATA['activation_func'] = 're_lu'\n",
    "columns = RMSE_DATA.columns\n",
    "RMSE_DATA"
   ]
  },
  {
   "cell_type": "code",
   "execution_count": 479,
   "id": "644d0c17",
   "metadata": {},
   "outputs": [],
   "source": [
    "from keras.layers import ReLU,LeakyReLU,ELU"
   ]
  },
  {
   "cell_type": "code",
   "execution_count": 467,
   "id": "89743654",
   "metadata": {},
   "outputs": [],
   "source": [
    "data = expr(optimizers = [legacy.RMSprop(),legacy.Adagrad()],act = ReLU(),RMSE_DATA = RMSE_DATA) "
   ]
  },
  {
   "cell_type": "code",
   "execution_count": 469,
   "id": "f5d11a30",
   "metadata": {},
   "outputs": [],
   "source": [
    "data = expr(optimizers = [legacy.RMSprop(),legacy.Adagrad()],act = LeakyReLU(),RMSE_DATA = data) "
   ]
  },
  {
   "cell_type": "code",
   "execution_count": 471,
   "id": "7970a737",
   "metadata": {},
   "outputs": [],
   "source": [
    "data = expr(optimizers = [legacy.Adam(),],act = LeakyReLU(),RMSE_DATA = data) "
   ]
  },
  {
   "cell_type": "code",
   "execution_count": 475,
   "id": "707a7eac",
   "metadata": {},
   "outputs": [],
   "source": [
    "\n",
    "data = expr(optimizers = [legacy.Adam(),legacy.RMSprop(),legacy.Adagrad()],act = ELU(),RMSE_DATA = data) "
   ]
  },
  {
   "cell_type": "code",
   "execution_count": 476,
   "id": "e6e97005",
   "metadata": {},
   "outputs": [
    {
     "data": {
      "text/html": [
       "<div>\n",
       "<style scoped>\n",
       "    .dataframe tbody tr th:only-of-type {\n",
       "        vertical-align: middle;\n",
       "    }\n",
       "\n",
       "    .dataframe tbody tr th {\n",
       "        vertical-align: top;\n",
       "    }\n",
       "\n",
       "    .dataframe thead th {\n",
       "        text-align: right;\n",
       "    }\n",
       "</style>\n",
       "<table border=\"1\" class=\"dataframe\">\n",
       "  <thead>\n",
       "    <tr style=\"text-align: right;\">\n",
       "      <th></th>\n",
       "      <th>5_neurons</th>\n",
       "      <th>6_neurons</th>\n",
       "      <th>8_neurons</th>\n",
       "      <th>9_neurons</th>\n",
       "      <th>optimizer</th>\n",
       "      <th>activation_func</th>\n",
       "    </tr>\n",
       "  </thead>\n",
       "  <tbody>\n",
       "    <tr>\n",
       "      <th>0</th>\n",
       "      <td>2.855859</td>\n",
       "      <td>3.051471</td>\n",
       "      <td>2.707031</td>\n",
       "      <td>2.778644</td>\n",
       "      <td>Adam</td>\n",
       "      <td>re_lu</td>\n",
       "    </tr>\n",
       "    <tr>\n",
       "      <th>0</th>\n",
       "      <td>2.991158</td>\n",
       "      <td>3.993815</td>\n",
       "      <td>3.272202</td>\n",
       "      <td>5.752151</td>\n",
       "      <td>RMSprop</td>\n",
       "      <td>re_lu_1</td>\n",
       "    </tr>\n",
       "    <tr>\n",
       "      <th>0</th>\n",
       "      <td>4.654756</td>\n",
       "      <td>4.169523</td>\n",
       "      <td>4.795677</td>\n",
       "      <td>4.000703</td>\n",
       "      <td>Adagrad</td>\n",
       "      <td>re_lu_1</td>\n",
       "    </tr>\n",
       "    <tr>\n",
       "      <th>0</th>\n",
       "      <td>4.504513</td>\n",
       "      <td>3.357481</td>\n",
       "      <td>3.258912</td>\n",
       "      <td>3.207686</td>\n",
       "      <td>RMSprop</td>\n",
       "      <td>leaky_re_lu_26</td>\n",
       "    </tr>\n",
       "    <tr>\n",
       "      <th>0</th>\n",
       "      <td>3.951305</td>\n",
       "      <td>4.184193</td>\n",
       "      <td>3.917098</td>\n",
       "      <td>3.550106</td>\n",
       "      <td>Adagrad</td>\n",
       "      <td>leaky_re_lu_26</td>\n",
       "    </tr>\n",
       "    <tr>\n",
       "      <th>0</th>\n",
       "      <td>3.110889</td>\n",
       "      <td>2.927111</td>\n",
       "      <td>2.950021</td>\n",
       "      <td>2.858373</td>\n",
       "      <td>Adam</td>\n",
       "      <td>leaky_re_lu_27</td>\n",
       "    </tr>\n",
       "    <tr>\n",
       "      <th>0</th>\n",
       "      <td>3.041395</td>\n",
       "      <td>2.835903</td>\n",
       "      <td>3.068053</td>\n",
       "      <td>2.919495</td>\n",
       "      <td>Adam</td>\n",
       "      <td>elu</td>\n",
       "    </tr>\n",
       "    <tr>\n",
       "      <th>0</th>\n",
       "      <td>2.727041</td>\n",
       "      <td>5.389580</td>\n",
       "      <td>24.896540</td>\n",
       "      <td>4.206643</td>\n",
       "      <td>RMSprop</td>\n",
       "      <td>elu</td>\n",
       "    </tr>\n",
       "    <tr>\n",
       "      <th>0</th>\n",
       "      <td>4.574432</td>\n",
       "      <td>4.483676</td>\n",
       "      <td>5.097102</td>\n",
       "      <td>3.703732</td>\n",
       "      <td>Adagrad</td>\n",
       "      <td>elu</td>\n",
       "    </tr>\n",
       "  </tbody>\n",
       "</table>\n",
       "</div>"
      ],
      "text/plain": [
       "   5_neurons  6_neurons  8_neurons  9_neurons optimizer activation_func\n",
       "0   2.855859   3.051471   2.707031   2.778644      Adam           re_lu\n",
       "0   2.991158   3.993815   3.272202   5.752151   RMSprop         re_lu_1\n",
       "0   4.654756   4.169523   4.795677   4.000703   Adagrad         re_lu_1\n",
       "0   4.504513   3.357481   3.258912   3.207686   RMSprop  leaky_re_lu_26\n",
       "0   3.951305   4.184193   3.917098   3.550106   Adagrad  leaky_re_lu_26\n",
       "0   3.110889   2.927111   2.950021   2.858373      Adam  leaky_re_lu_27\n",
       "0   3.041395   2.835903   3.068053   2.919495      Adam             elu\n",
       "0   2.727041   5.389580  24.896540   4.206643   RMSprop             elu\n",
       "0   4.574432   4.483676   5.097102   3.703732   Adagrad             elu"
      ]
     },
     "execution_count": 476,
     "metadata": {},
     "output_type": "execute_result"
    }
   ],
   "source": [
    "data"
   ]
  },
  {
   "cell_type": "code",
   "execution_count": null,
   "id": "666d0048",
   "metadata": {},
   "outputs": [],
   "source": [
    "data = expr(optimizers = [legacy.Adam(),legacy.RMSprop(),legacy.Adagrad()],act = Selu(),RMSE_DATA = data) "
   ]
  },
  {
   "cell_type": "markdown",
   "id": "f70ff0b3",
   "metadata": {},
   "source": [
    "**Наилучшие метрики показывет Adam.**\n",
    "\n",
    "**Наилучшая конфигарация модели это 8 слоев,[64,128,64,1000,1000,8,4,1] - нейронов в каждом слое, с оптимизатором Adam и с функцией активации ReLU.**\n",
    "\n",
    "**Вторая лучшая конфиграция это 5-ти слойная сеть,[64,1000,1000,32,1] - нейронов в каждом слое, с оптимизатором RMSprop и с функцией активации ELU**"
   ]
  },
  {
   "cell_type": "markdown",
   "id": "a29a6fdb",
   "metadata": {},
   "source": [
    "***(((Для чего можно использовать tensorflow, какие более грубокие настройки сети я могу с его помощью делать, помимо наблюдения за градиентами???)))***"
   ]
  },
  {
   "cell_type": "code",
   "execution_count": null,
   "id": "d59607d7",
   "metadata": {},
   "outputs": [],
   "source": []
  }
 ],
 "metadata": {
  "kernelspec": {
   "display_name": "Python 3 (ipykernel)",
   "language": "python",
   "name": "python3"
  },
  "language_info": {
   "codemirror_mode": {
    "name": "ipython",
    "version": 3
   },
   "file_extension": ".py",
   "mimetype": "text/x-python",
   "name": "python",
   "nbconvert_exporter": "python",
   "pygments_lexer": "ipython3",
   "version": "3.9.7"
  }
 },
 "nbformat": 4,
 "nbformat_minor": 5
}
